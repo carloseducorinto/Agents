{
  "nbformat": 4,
  "nbformat_minor": 0,
  "metadata": {
    "colab": {
      "provenance": [],
      "machine_shape": "hm",
      "gpuType": "T4",
      "include_colab_link": true
    },
    "kernelspec": {
      "name": "python3",
      "display_name": "Python 3"
    },
    "language_info": {
      "name": "python"
    },
    "accelerator": "GPU"
  },
  "cells": [
    {
      "cell_type": "markdown",
      "metadata": {
        "id": "view-in-github",
        "colab_type": "text"
      },
      "source": [
        "<a href=\"https://colab.research.google.com/github/carloseducorinto/Agents/blob/main/Agents_Data_Analysis_v9.ipynb\" target=\"_parent\"><img src=\"https://colab.research.google.com/assets/colab-badge.svg\" alt=\"Open In Colab\"/></a>"
      ]
    },
    {
      "cell_type": "markdown",
      "source": [
        "#AI Agents System Log Evaluation Demo\n",
        "This demo showcases the evaluation of a system log using four specialized AI agents, each playing a crucial role in the process:\n",
        "\n",
        "**Business Analyst** 📝: Defines the requirements based on the user story, ensuring clear objectives and goals.\n",
        "\n",
        "**Python Programmer** 💻: Implements the necessary code to meet the defined requirements.\n",
        "\n",
        "**Tester** 🧪: Tests and validates the Python code to ensure it functions correctly and meets quality standards.\n",
        "\n",
        "**Production Support Analyst** 📊: Evaluates the system log, providing a detailed report and recommendations for improving the application.\n",
        "\n",
        "**User Story**: As a Tech Team Manager, I want to evaluate the system log issues in a visual manner so that I can identify trends, improvements, pain points, and make informed decisions by error types to improve the production environment health\n",
        "\n",
        "Together, these agents collaborate to analyze and improve the system log effectively."
      ],
      "metadata": {
        "id": "w4ExOfI4JclC"
      }
    },
    {
      "cell_type": "markdown",
      "source": [
        "Importing Required Libraries:\n",
        "```Python\n",
        "!pip install crewai==0.28.8 crewai_tools==0.1.6 langchain_community==0.0.29 langchain_groq\n",
        "```\n",
        "\n"
      ],
      "metadata": {
        "id": "bNWO9xn5_U54"
      }
    },
    {
      "cell_type": "code",
      "source": [
        "#!pip install -q crewai==0.28.8 crewai_tools==0.1.6 langchain_community==0.0.29\n",
        "#!pip install -q langchain_groq\n",
        "#!pip install opencv-python\n",
        "#!pip install open-interpreter\n",
        "#!pip install -q langchain_google_genai\n"
      ],
      "metadata": {
        "id": "xNMbFATz_Xah"
      },
      "execution_count": 18,
      "outputs": []
    },
    {
      "cell_type": "code",
      "source": [
        "import warnings\n",
        "from crewai import Agent, Crew, Task, Process\n",
        "from crewai.tasks.task_output import TaskOutput\n",
        "import os\n",
        "from google.colab import userdata\n",
        "from langchain_openai import ChatOpenAI\n",
        "from langchain.agents import load_tools\n",
        "#from langchain_core.tools import Tool\n",
        "#from langchain.tools import tool\n",
        "#from langchain.agents import Tool\n",
        "#from langchain_google_genai import ChatGoogleGenerativeAI\n",
        "#from langchain_groq import ChatGroq\n",
        "#import cv2\n",
        "#from interpreter import interpreter\n",
        "\n",
        "# Warning control\n",
        "warnings.filterwarnings('ignore')"
      ],
      "metadata": {
        "id": "8hZv9Byw_b90"
      },
      "execution_count": 19,
      "outputs": []
    },
    {
      "cell_type": "code",
      "source": [
        "os.environ[\"OPENAI_API_KEY\"] = userdata.get('OPENAI_API_KEY')\n",
        "os.environ[\"SERPER_API_KEY\"] = userdata.get('SERPER_API_KEY')\n",
        "#os.environ[\"GEMINI_API_KEY\"] = userdata.get('GEMINI_API_KEY')\n",
        "#os.environ[\"GROQ_API_KEY\"] = userdata.get(\"GROQ_API_KEY\")\n",
        "#llm=ChatGroq(temperature=0, model_name=\"llama3-70b-8192\", api_key=userdata.get(\"GROQ_API_KEY\"))\n",
        "#llm = ChatGroq(temperature=0, model_name=\"mixtral-8x7b-32768\",api_key=userdata.get(\"GROQ_API_KEY\"))\n",
        "#llm=ChatOpenAI(model=\"gpt-4-turbo\",temperature=0.7)\n",
        "llm=ChatOpenAI(model=\"gpt-4-turbo\",temperature=0.7)\n",
        "\n",
        "#llm = ChatGoogleGenerativeAI(model=\"gemini-pro\")"
      ],
      "metadata": {
        "id": "qcyj1o4n_m7M"
      },
      "execution_count": 20,
      "outputs": []
    },
    {
      "cell_type": "markdown",
      "source": [
        "## crewAI Tools"
      ],
      "metadata": {
        "id": "4aUugsimApXW"
      }
    },
    {
      "cell_type": "code",
      "source": [
        "from crewai_tools import (\n",
        "  FileReadTool,\n",
        "  ScrapeWebsiteTool,\n",
        "  SerperDevTool\n",
        ")\n",
        "\n",
        "search_tool = SerperDevTool()\n",
        "scrape_tool = ScrapeWebsiteTool()\n",
        "read_log_tool = FileReadTool(file_path='./system_out.log')\n",
        "read_lessons_learned = FileReadTool(file_path='./lessons_learned.txt')\n",
        "\n",
        "\n",
        "def callback_task_completed(output: TaskOutput):\n",
        "    print(f\"\"\"\n",
        "        TASK COMPLETED  !\n",
        "        Task: {output.description}\n",
        "        Output: {output.raw_output}\n",
        "    \"\"\")\n",
        "\n",
        "# Define the Human Tool\n",
        "human_tools = load_tools([\"human\"])"
      ],
      "metadata": {
        "id": "q0I8yjjcArpv"
      },
      "execution_count": 21,
      "outputs": []
    },
    {
      "cell_type": "markdown",
      "source": [
        "# Creating Agents\n",
        "\n",
        "Agent 1: Sr. Business Analyst\n"
      ],
      "metadata": {
        "id": "RJpRy4S0EH1X"
      }
    },
    {
      "cell_type": "code",
      "source": [
        "business_analyst = Agent(\n",
        "    role=\"Sr. Business Analyst\",\n",
        "    goal=\"Provide clear and comprehensive Business Requirement Definitions (BRD) based on the {user_story} \"\n",
        "         \"for the tech team to implement a python code for evaluating the appliaction log in order to analyze the main errors \"\n",
        "         \"and address their resolution in order to avoid their repetition\",\n",
        "    tools = [read_log_tool],\n",
        "    verbose=True,\n",
        "    backstory=(\n",
        "        \"As a Sr. Business Analyst specializing in IT production support issues evaluation, \"\n",
        "        \"your expertise lies in translating the complex logs into business requirements definition \"\n",
        "        \"Your deep understanding of IT production support metrics and analytical tools \"\n",
        "        \"ensures that the solutions you help create are both effective and aligned \"\n",
        "        \"with the {user_story}. Your role is pivotal in bridging the gap between \"\n",
        "        \"production support needs and technical implementation, ensuring seamless and efficient development.\"\n",
        "        \"You must use the file log sytem_out.log as a primary data source. \"    ),\n",
        "   llm = llm\n",
        ")\n"
      ],
      "metadata": {
        "id": "sfKZQAPXENyn"
      },
      "execution_count": 22,
      "outputs": []
    },
    {
      "cell_type": "markdown",
      "source": [
        "Agent 2: Sr. Python Programmer"
      ],
      "metadata": {
        "id": "S6htgz36B4se"
      }
    },
    {
      "cell_type": "code",
      "source": [
        "senior_python_programmer = Agent(\n",
        "    role=\"Senior Python Programmer\",\n",
        "    goal=\"Implement the Python code to be executed in Jupyter Notebook based on the Business Requirement Definitions (BRD)\"\n",
        "         \"Do not use functions neither class because this code will be executed in Jupyter Notebook\" ,\n",
        "    verbose=True,\n",
        "#    tools=[search_tool,scrape_tool,read_lessons_learned],\n",
        "    tools=[read_lessons_learned],\n",
        "    backstory=(\n",
        "        \"As a Senior Python Programmer with extensive experience in data analytics, \"\n",
        "        \"you excel at transforming detailed business requirements into robust, efficient, and scalable code. \"\n",
        "        \"As you have created code with errors, please read the file lessons_learned to avoid getting same errors \"\n",
        "    ),\n",
        "   llm = llm\n",
        ")\n"
      ],
      "metadata": {
        "id": "Bu9xoutsEbm_"
      },
      "execution_count": 23,
      "outputs": []
    },
    {
      "cell_type": "markdown",
      "source": [
        "Agent 3: Sr. Quality Assurance Analyst"
      ],
      "metadata": {
        "id": "9ytl4q-uCIiq"
      }
    },
    {
      "cell_type": "code",
      "source": [
        "senior_qa_analyst = Agent(\n",
        "    role=\"Senior Quality Assurance Analyst\",\n",
        "    goal=\"Ensure the accuracy, performance, and reliability of Python code  \"\n",
        "         \"implemented by the Senior Python Programmer, based on the Business Requirement Definitions (BRD).\",\n",
        "    verbose=True,\n",
        "    backstory=(\n",
        "        \"As a Senior Quality Assurance Analyst with a specialization in data analytics tools, \"\n",
        "        \"you bring a wealth of experience in validating and verifying python code quality. \"\n",
        "        \"Your meticulous approach to testing ensures that all aspects of the implemented solutions are thoroughly evaluated. \"\n",
        "        \"You collaborate closely with developers and analysts to identify potential issues, ensuring that the final product \"\n",
        "        \"meets the highest standards of quality and performance. Your role is critical in maintaining the integrity and reliability \"\n",
        "        \"of the python code.\"    ),\n",
        "    llm = llm\n",
        ")\n"
      ],
      "metadata": {
        "id": "qN4kMjjpEreM"
      },
      "execution_count": 24,
      "outputs": []
    },
    {
      "cell_type": "markdown",
      "source": [
        "Agent 4: Sr. Production Support Analyst Report"
      ],
      "metadata": {
        "id": "Re4ow77XIBt6"
      }
    },
    {
      "cell_type": "code",
      "source": [
        "production_support  = Agent(\n",
        "    role=\"Sr. Production Support Analyst\",\n",
        "    goal=\"Provide clear and comprehensive report about the main issues found in production environment \"\n",
        "         \"and provide the recommendation to avoid the main errors.\",\n",
        "    tools = [read_log_tool],\n",
        "    verbose=True,\n",
        "    backstory=(\n",
        "        \"As a Sr. Production Support Analyst specializing in IT production support issues evaluation, \"\n",
        "        \"your expertise lies in providing great and concise reports and recommendations to improve the production environment. \"\n",
        "    ),\n",
        "   llm = llm\n",
        ")\n"
      ],
      "metadata": {
        "id": "KPUrjMPtH8-F"
      },
      "execution_count": 25,
      "outputs": []
    },
    {
      "cell_type": "markdown",
      "source": [
        "## Creating Tasks"
      ],
      "metadata": {
        "id": "Wa8pC5jYE8sK"
      }
    },
    {
      "cell_type": "markdown",
      "source": [
        "Task for Sr. Business Analyst: Define Business Requirements"
      ],
      "metadata": {
        "id": "ODcXKMLACYNB"
      }
    },
    {
      "cell_type": "code",
      "source": [
        "business_analyst_task = Task(\n",
        "    description=(\n",
        "        \"Given the {user_story} and the {file_name} analyze the production issues data \"\n",
        "        \"and document detailed Business Requirement Definitions (BRD) for the development team to implement the Python code \"\n",
        "        \"for extracting useful insights from the log and perform the log data analysis.\"\n",
        "        \"You must provide the follow visualization:  -  {visualization_type} \"\n",
        "        \"to be implemented in python.\"    ),\n",
        "    expected_output=(\n",
        "        \"A comprehensive Business Requirement Definition (BRD) document that includes detailed descriptions \"\n",
        "        \"of the required visualization, processing steps, \"\n",
        "        ),\n",
        "    agent=business_analyst,\n",
        "    output_file=\"business_requirement_definition.md\",\n",
        "#   async_execution=True,\n",
        "    llm = llm,\n",
        "    callback=callback_task_completed\n",
        "\n",
        ")\n",
        "\n"
      ],
      "metadata": {
        "id": "devp2139E7kO"
      },
      "execution_count": 26,
      "outputs": []
    },
    {
      "cell_type": "markdown",
      "source": [
        "Task for Sr. Production Support - Issues Reporting"
      ],
      "metadata": {
        "id": "-ruDAVuXI1Qz"
      }
    },
    {
      "cell_type": "code",
      "source": [
        "production_support_task = Task(\n",
        "    description=(\n",
        "        \"Given the  {file_name} analyze the production issues log \"\n",
        "        \"and create a summary about the main issues and also the recommendations to improve the production environment. \"\n",
        "    ),\n",
        "    expected_output=(\n",
        "        \"A comprehensive report document that includes summary about the main issues and the recommendation to avoid the issues \"\n",
        "         ),\n",
        "    agent=production_support,\n",
        "    output_file=\"production_suppport_report.md\",\n",
        "#    async_execution=True,\n",
        "    llm = llm,\n",
        "    callback=callback_task_completed\n",
        "\n",
        ")\n"
      ],
      "metadata": {
        "id": "Zq-RcajSIytK"
      },
      "execution_count": 27,
      "outputs": []
    },
    {
      "cell_type": "markdown",
      "source": [
        "Task for Senior Python Programmer: Implement Business Requirements\n"
      ],
      "metadata": {
        "id": "GawqsNjLCq3C"
      }
    },
    {
      "cell_type": "code",
      "source": [
        "senior_python_programmer_task = Task(\n",
        "    description=(\n",
        "        \"Based on the Business Requirement Definitions (BRD) and the {file_name} provided by the Sr. Business Analyst and also the {user_story}, \"\n",
        "        \"implement the necessary Python code. You cannot use regular expression pattern to extract required fields from each log entry \"\n",
        "        \"Ensure the code is efficient, scalable, and aligns with the documented requirements.  \"\n",
        "        \"Collaborate with the Business Analyst and QA team to validate and refine the implementation. You can transform the system log in csv in case necessary \"\n",
        "    ),\n",
        "    expected_output=(\n",
        "        \"A python code to run in Jupyter noteebook, considering the package installation and the libraries import to be executed for data analysis proposal\"\n",
        "        \"as specified in the BRD. The code should be ready for testing and deployment.\"\n",
        "    ),\n",
        "    agent=senior_python_programmer,\n",
        "#    async_execution=True,\n",
        "    llm = llm,\n",
        "    output_file=\"data_analysis_code.ipynb\",\n",
        "    tools=[read_lessons_learned],\n",
        "    context=[business_analyst_task],\n",
        "    callback=callback_task_completed\n",
        "\n",
        "\n",
        ")\n"
      ],
      "metadata": {
        "id": "jdtnoXW_FL0j"
      },
      "execution_count": 28,
      "outputs": []
    },
    {
      "cell_type": "markdown",
      "source": [
        "Task for Senior Quality Assurance Analyst: Validate Implementation\n"
      ],
      "metadata": {
        "id": "3vvTPfjUDF4C"
      }
    },
    {
      "cell_type": "code",
      "source": [
        "senior_qa_analyst_task = Task(\n",
        "    description=(\n",
        "        \"Conduct thorough testing and validation the python code \"\n",
        "        \"implemented by the Senior Python Programmer. Ensure that all functionalities align with the Business Requirement Definitions (BRD) \"\n",
        "        \"and the {user_story} provided by the Sr. Business Analyst. \"\n",
        "        \"Identify and document any issues, and work with the development team to resolve them. \"\n",
        "        \"Perform performance testing and ensure the accuracy and reliability of the data analysis.\"\n",
        "          ),\n",
        "    expected_output=(\n",
        "         \"A comprehensive test report documenting the results of all tests conducted, \"\n",
        "         \"including identified issues, resolutions, and final validation of the python code. \"\n",
        "         \"The python code should be confirmed as accurate, reliable, and ready for deployment.\"\n",
        "    ),\n",
        "    agent=senior_qa_analyst,\n",
        "    context=[business_analyst_task,senior_python_programmer_task],\n",
        "    output_file=\"data_analysis_qa_document.md\",\n",
        "    allow_delegation=True,\n",
        "  # async_execution=True,\n",
        "   llm = llm,\n",
        "   callback=callback_task_completed\n",
        "\n",
        ")\n"
      ],
      "metadata": {
        "id": "-7CmfXLSL1Te"
      },
      "execution_count": 29,
      "outputs": []
    },
    {
      "cell_type": "markdown",
      "source": [
        "## Creating the Crew"
      ],
      "metadata": {
        "id": "P9s8eOWMFhqx"
      }
    },
    {
      "cell_type": "code",
      "source": [
        "log_analysis = Crew(\n",
        "    agents=[business_analyst,production_support,senior_python_programmer,senior_qa_analyst],\n",
        "    tasks=[business_analyst_task,production_support_task, senior_python_programmer_task,senior_qa_analyst_task],\n",
        "    manager_llm=llm,\n",
        "    process=Process.hierarchical,\n",
        "    verbose=True,\n",
        "    memory=True,\n",
        "#   cache=True,\n",
        "    max_rpm=100,\n",
        "#    share_crew=True\n",
        ")"
      ],
      "metadata": {
        "colab": {
          "base_uri": "https://localhost:8080/"
        },
        "id": "8xmj3S4ZFi9d",
        "outputId": "262ccf82-1649-4544-911c-7132703882db"
      },
      "execution_count": 30,
      "outputs": [
        {
          "output_type": "stream",
          "name": "stderr",
          "text": [
            "WARNING:opentelemetry.trace:Overriding of current TracerProvider is not allowed\n"
          ]
        }
      ]
    },
    {
      "cell_type": "markdown",
      "source": [
        "## Running the Crew\n",
        "\n",
        "- Set the inputs for the execution of the crew."
      ],
      "metadata": {
        "id": "NzudYXRVFnuD"
      }
    },
    {
      "cell_type": "code",
      "source": [
        "log_analysis_inputs = {\n",
        "    'user_story': \"As a Tech Team Manager, I want to evaluate the system log issues in a visual manner \"\n",
        "                  \"so that I can identify trends, improvements, pain points, and make informed decisions \"\n",
        "                  \"by error types to improve the production environment health.\",\n",
        "    'file_name': \"system_out.log\",\n",
        "    'visualization_type': \"Visualization: Bar Chart for Error Types \"\n",
        "}\n"
      ],
      "metadata": {
        "id": "8O_tSpvNFofN"
      },
      "execution_count": 31,
      "outputs": []
    },
    {
      "cell_type": "code",
      "source": [
        "### this execution will take a few minutes to run\n",
        "result = log_analysis.kickoff(inputs=log_analysis_inputs)\n",
        "print('**************************************FINAL**************************************************')"
      ],
      "metadata": {
        "id": "KpphBlLJGkkf"
      },
      "execution_count": null,
      "outputs": []
    },
    {
      "cell_type": "markdown",
      "source": [
        "\n",
        "\n",
        "```\n",
        "# Import necessary libraries\n",
        "import pandas as pd\n",
        "import plotly.express as px\n",
        "\n",
        "# Load the data from the log file\n",
        "try:\n",
        "    log_data = pd.read_csv('system_out.log', sep=' - ', engine='python', header=None,\n",
        "                           names=['Timestamp', 'User Identifier', 'Server Identifier',\n",
        "                                  'Error Type', 'Brief Description', 'Detailed Information'])\n",
        "except Exception as e:\n",
        "    print(f\"Error reading the log file: {e}\")\n",
        "    raise\n",
        "\n",
        "# Data Preprocessing\n",
        "try:\n",
        "    log_data = log_data.applymap(lambda x: x.strip() if isinstance(x, str) else x)\n",
        "except Exception as e:\n",
        "    print(f\"Error during data preprocessing: {e}\")\n",
        "    raise\n",
        "\n",
        "# Analyze the data to count the occurrences of each error type\n",
        "try:\n",
        "    error_counts = log_data['Error Type'].value_counts().reset_index()\n",
        "    error_counts.columns = ['Error Type', 'Count']\n",
        "except Exception as e:\n",
        "    print(f\"Error during data analysis: {e}\")\n",
        "    raise\n",
        "\n",
        "# Generate a bar chart using Plotly\n",
        "try:\n",
        "    fig = px.bar(error_counts, x='Error Type', y='Count', title='Error Type Frequencies',\n",
        "                 labels={'Count': 'Frequency', 'Error Type': 'Types of Errors'})\n",
        "    fig.update_traces(marker_color='blue', marker_line_color='black',\n",
        "                      marker_line_width=1.5, opacity=0.6)\n",
        "    fig.update_layout(title_text='Error Type Frequencies in System Logs', title_x=0.5)\n",
        "    fig.show()\n",
        "except Exception as e:\n",
        "    print(f\"Error during visualization: {e}\")\n",
        "    raise\n",
        "\n",
        "# Note: Ensure to install necessary packages if not already installed:\n",
        "# !pip install pandas plotly\n",
        "```\n",
        "\n"
      ],
      "metadata": {
        "id": "ifK75daC8sYT"
      }
    },
    {
      "cell_type": "markdown",
      "source": [
        "# Challenges\n",
        "* Getting agents to use tools in appropriate scenarios.\n",
        "* Getting agents to NOT use tools when NOT nedeed.\n",
        "* Managing the data-flow and decisions\n",
        "* Prompt the optimal choice\n",
        "* Dealing with Hallucination\n",
        "* Getting them to remember previous steps taken.\n",
        "* Getting them to stay focused\n",
        "* Evaluation"
      ],
      "metadata": {
        "id": "NBnQWcY35hrL"
      }
    },
    {
      "cell_type": "markdown",
      "source": [
        "\n",
        "#Final Thoughts\n",
        "\n",
        "*   Building robust LLM-powered agents involves complex challenges,\n",
        "requiring creativity, experimentation, and quality engineering.\n",
        "\n",
        "*   As models improve, they will enable greater potential products and easier development.\n",
        "\n",
        "*   In the near future, AI engineers need a deep understanding of the LLMs they use, being aware of their strengths and weaknesses.\n",
        "\n",
        "* Most importantly, engineers should develop a good intuitive sense of how these models function.\n",
        "\n",
        "\n",
        "\n"
      ],
      "metadata": {
        "id": "zOy5ts2X42Po"
      }
    },
    {
      "cell_type": "code",
      "source": [
        "# Import necessary libraries\n",
        "import pandas as pd\n",
        "import plotly.express as px\n",
        "\n",
        "# Load the data from the log file\n",
        "try:\n",
        "    # Assuming the log file 'system_out.log' is in the same directory as the notebook\n",
        "    log_data = pd.read_csv('system_out.log', sep=' - ', engine='python', header=None,\n",
        "                           names=['Timestamp', 'User Identifier', 'Server Identifier',\n",
        "                                  'Error Type', 'Brief Description', 'Detailed Information'])\n",
        "except Exception as e:\n",
        "    print(f\"Error reading the log file: {e}\")\n",
        "    raise\n",
        "\n",
        "# Data Preprocessing\n",
        "try:\n",
        "    # Strip any leading/trailing whitespace characters that might have been misincluded\n",
        "    log_data = log_data.applymap(lambda x: x.strip() if isinstance(x, str) else x)\n",
        "except Exception as e:\n",
        "    print(f\"Error during data preprocessing: {e}\")\n",
        "    raise\n",
        "\n",
        "# Analyze the data to count the occurrences of each error type\n",
        "try:\n",
        "    error_counts = log_data['Error Type'].value_counts().reset_index()\n",
        "    error_counts.columns = ['Error Type', 'Count']\n",
        "except Exception as e:\n",
        "    print(f\"Error during data analysis: {e}\")\n",
        "    raise\n",
        "\n",
        "# Generate a bar chart using Plotly\n",
        "try:\n",
        "    fig = px.bar(error_counts, x='Error Type', y='Count', title='Error Type Frequencies',\n",
        "                 labels={'Count': 'Frequency', 'Error Type': 'Types of Errors'})\n",
        "    fig.update_traces(marker_color='blue', marker_line_color='black',\n",
        "                      marker_line_width=1.5, opacity=0.6)\n",
        "    fig.update_layout(title_text='Error Type Frequencies in System Logs', title_x=0.5)\n",
        "    fig.show()\n",
        "except Exception as e:\n",
        "    print(f\"Error during visualization: {e}\")\n",
        "    raise\n",
        "\n",
        "# Note: Ensure to install necessary packages if not already installed:\n",
        "# !pip install pandas plotly\n"
      ],
      "metadata": {
        "id": "Abw73UrNk2Qr",
        "colab": {
          "base_uri": "https://localhost:8080/",
          "height": 542
        },
        "outputId": "584073fa-cfb8-4866-e95a-ad7525021d5e"
      },
      "execution_count": 33,
      "outputs": [
        {
          "output_type": "display_data",
          "data": {
            "text/html": [
              "<html>\n",
              "<head><meta charset=\"utf-8\" /></head>\n",
              "<body>\n",
              "    <div>            <script src=\"https://cdnjs.cloudflare.com/ajax/libs/mathjax/2.7.5/MathJax.js?config=TeX-AMS-MML_SVG\"></script><script type=\"text/javascript\">if (window.MathJax && window.MathJax.Hub && window.MathJax.Hub.Config) {window.MathJax.Hub.Config({SVG: {font: \"STIX-Web\"}});}</script>                <script type=\"text/javascript\">window.PlotlyConfig = {MathJaxConfig: 'local'};</script>\n",
              "        <script charset=\"utf-8\" src=\"https://cdn.plot.ly/plotly-2.24.1.min.js\"></script>                <div id=\"c78c5444-1bf6-4a26-9c2e-13545fe82e55\" class=\"plotly-graph-div\" style=\"height:525px; width:100%;\"></div>            <script type=\"text/javascript\">                                    window.PLOTLYENV=window.PLOTLYENV || {};                                    if (document.getElementById(\"c78c5444-1bf6-4a26-9c2e-13545fe82e55\")) {                    Plotly.newPlot(                        \"c78c5444-1bf6-4a26-9c2e-13545fe82e55\",                        [{\"alignmentgroup\":\"True\",\"hovertemplate\":\"Types of Errors=%{x}\\u003cbr\\u003eFrequency=%{y}\\u003cextra\\u003e\\u003c\\u002fextra\\u003e\",\"legendgroup\":\"\",\"marker\":{\"color\":\"blue\",\"pattern\":{\"shape\":\"\"},\"line\":{\"color\":\"black\",\"width\":1.5}},\"name\":\"\",\"offsetgroup\":\"\",\"orientation\":\"v\",\"showlegend\":false,\"textposition\":\"auto\",\"x\":[\"USER_AUTHENTICATION\",\"JAVA_APPLICATION\",\"WEB_SERVER\",\"GENERAL_ERROR\",\"APPLICATION_DEPLOYMENT\",\"ORACLE_DATABASE\",\"APPLICATION_ERROR\",\"INFRASTRUCTURE\"],\"xaxis\":\"x\",\"y\":[19,18,18,15,13,11,10,8],\"yaxis\":\"y\",\"type\":\"bar\",\"opacity\":0.6}],                        {\"template\":{\"data\":{\"histogram2dcontour\":[{\"type\":\"histogram2dcontour\",\"colorbar\":{\"outlinewidth\":0,\"ticks\":\"\"},\"colorscale\":[[0.0,\"#0d0887\"],[0.1111111111111111,\"#46039f\"],[0.2222222222222222,\"#7201a8\"],[0.3333333333333333,\"#9c179e\"],[0.4444444444444444,\"#bd3786\"],[0.5555555555555556,\"#d8576b\"],[0.6666666666666666,\"#ed7953\"],[0.7777777777777778,\"#fb9f3a\"],[0.8888888888888888,\"#fdca26\"],[1.0,\"#f0f921\"]]}],\"choropleth\":[{\"type\":\"choropleth\",\"colorbar\":{\"outlinewidth\":0,\"ticks\":\"\"}}],\"histogram2d\":[{\"type\":\"histogram2d\",\"colorbar\":{\"outlinewidth\":0,\"ticks\":\"\"},\"colorscale\":[[0.0,\"#0d0887\"],[0.1111111111111111,\"#46039f\"],[0.2222222222222222,\"#7201a8\"],[0.3333333333333333,\"#9c179e\"],[0.4444444444444444,\"#bd3786\"],[0.5555555555555556,\"#d8576b\"],[0.6666666666666666,\"#ed7953\"],[0.7777777777777778,\"#fb9f3a\"],[0.8888888888888888,\"#fdca26\"],[1.0,\"#f0f921\"]]}],\"heatmap\":[{\"type\":\"heatmap\",\"colorbar\":{\"outlinewidth\":0,\"ticks\":\"\"},\"colorscale\":[[0.0,\"#0d0887\"],[0.1111111111111111,\"#46039f\"],[0.2222222222222222,\"#7201a8\"],[0.3333333333333333,\"#9c179e\"],[0.4444444444444444,\"#bd3786\"],[0.5555555555555556,\"#d8576b\"],[0.6666666666666666,\"#ed7953\"],[0.7777777777777778,\"#fb9f3a\"],[0.8888888888888888,\"#fdca26\"],[1.0,\"#f0f921\"]]}],\"heatmapgl\":[{\"type\":\"heatmapgl\",\"colorbar\":{\"outlinewidth\":0,\"ticks\":\"\"},\"colorscale\":[[0.0,\"#0d0887\"],[0.1111111111111111,\"#46039f\"],[0.2222222222222222,\"#7201a8\"],[0.3333333333333333,\"#9c179e\"],[0.4444444444444444,\"#bd3786\"],[0.5555555555555556,\"#d8576b\"],[0.6666666666666666,\"#ed7953\"],[0.7777777777777778,\"#fb9f3a\"],[0.8888888888888888,\"#fdca26\"],[1.0,\"#f0f921\"]]}],\"contourcarpet\":[{\"type\":\"contourcarpet\",\"colorbar\":{\"outlinewidth\":0,\"ticks\":\"\"}}],\"contour\":[{\"type\":\"contour\",\"colorbar\":{\"outlinewidth\":0,\"ticks\":\"\"},\"colorscale\":[[0.0,\"#0d0887\"],[0.1111111111111111,\"#46039f\"],[0.2222222222222222,\"#7201a8\"],[0.3333333333333333,\"#9c179e\"],[0.4444444444444444,\"#bd3786\"],[0.5555555555555556,\"#d8576b\"],[0.6666666666666666,\"#ed7953\"],[0.7777777777777778,\"#fb9f3a\"],[0.8888888888888888,\"#fdca26\"],[1.0,\"#f0f921\"]]}],\"surface\":[{\"type\":\"surface\",\"colorbar\":{\"outlinewidth\":0,\"ticks\":\"\"},\"colorscale\":[[0.0,\"#0d0887\"],[0.1111111111111111,\"#46039f\"],[0.2222222222222222,\"#7201a8\"],[0.3333333333333333,\"#9c179e\"],[0.4444444444444444,\"#bd3786\"],[0.5555555555555556,\"#d8576b\"],[0.6666666666666666,\"#ed7953\"],[0.7777777777777778,\"#fb9f3a\"],[0.8888888888888888,\"#fdca26\"],[1.0,\"#f0f921\"]]}],\"mesh3d\":[{\"type\":\"mesh3d\",\"colorbar\":{\"outlinewidth\":0,\"ticks\":\"\"}}],\"scatter\":[{\"fillpattern\":{\"fillmode\":\"overlay\",\"size\":10,\"solidity\":0.2},\"type\":\"scatter\"}],\"parcoords\":[{\"type\":\"parcoords\",\"line\":{\"colorbar\":{\"outlinewidth\":0,\"ticks\":\"\"}}}],\"scatterpolargl\":[{\"type\":\"scatterpolargl\",\"marker\":{\"colorbar\":{\"outlinewidth\":0,\"ticks\":\"\"}}}],\"bar\":[{\"error_x\":{\"color\":\"#2a3f5f\"},\"error_y\":{\"color\":\"#2a3f5f\"},\"marker\":{\"line\":{\"color\":\"#E5ECF6\",\"width\":0.5},\"pattern\":{\"fillmode\":\"overlay\",\"size\":10,\"solidity\":0.2}},\"type\":\"bar\"}],\"scattergeo\":[{\"type\":\"scattergeo\",\"marker\":{\"colorbar\":{\"outlinewidth\":0,\"ticks\":\"\"}}}],\"scatterpolar\":[{\"type\":\"scatterpolar\",\"marker\":{\"colorbar\":{\"outlinewidth\":0,\"ticks\":\"\"}}}],\"histogram\":[{\"marker\":{\"pattern\":{\"fillmode\":\"overlay\",\"size\":10,\"solidity\":0.2}},\"type\":\"histogram\"}],\"scattergl\":[{\"type\":\"scattergl\",\"marker\":{\"colorbar\":{\"outlinewidth\":0,\"ticks\":\"\"}}}],\"scatter3d\":[{\"type\":\"scatter3d\",\"line\":{\"colorbar\":{\"outlinewidth\":0,\"ticks\":\"\"}},\"marker\":{\"colorbar\":{\"outlinewidth\":0,\"ticks\":\"\"}}}],\"scattermapbox\":[{\"type\":\"scattermapbox\",\"marker\":{\"colorbar\":{\"outlinewidth\":0,\"ticks\":\"\"}}}],\"scatterternary\":[{\"type\":\"scatterternary\",\"marker\":{\"colorbar\":{\"outlinewidth\":0,\"ticks\":\"\"}}}],\"scattercarpet\":[{\"type\":\"scattercarpet\",\"marker\":{\"colorbar\":{\"outlinewidth\":0,\"ticks\":\"\"}}}],\"carpet\":[{\"aaxis\":{\"endlinecolor\":\"#2a3f5f\",\"gridcolor\":\"white\",\"linecolor\":\"white\",\"minorgridcolor\":\"white\",\"startlinecolor\":\"#2a3f5f\"},\"baxis\":{\"endlinecolor\":\"#2a3f5f\",\"gridcolor\":\"white\",\"linecolor\":\"white\",\"minorgridcolor\":\"white\",\"startlinecolor\":\"#2a3f5f\"},\"type\":\"carpet\"}],\"table\":[{\"cells\":{\"fill\":{\"color\":\"#EBF0F8\"},\"line\":{\"color\":\"white\"}},\"header\":{\"fill\":{\"color\":\"#C8D4E3\"},\"line\":{\"color\":\"white\"}},\"type\":\"table\"}],\"barpolar\":[{\"marker\":{\"line\":{\"color\":\"#E5ECF6\",\"width\":0.5},\"pattern\":{\"fillmode\":\"overlay\",\"size\":10,\"solidity\":0.2}},\"type\":\"barpolar\"}],\"pie\":[{\"automargin\":true,\"type\":\"pie\"}]},\"layout\":{\"autotypenumbers\":\"strict\",\"colorway\":[\"#636efa\",\"#EF553B\",\"#00cc96\",\"#ab63fa\",\"#FFA15A\",\"#19d3f3\",\"#FF6692\",\"#B6E880\",\"#FF97FF\",\"#FECB52\"],\"font\":{\"color\":\"#2a3f5f\"},\"hovermode\":\"closest\",\"hoverlabel\":{\"align\":\"left\"},\"paper_bgcolor\":\"white\",\"plot_bgcolor\":\"#E5ECF6\",\"polar\":{\"bgcolor\":\"#E5ECF6\",\"angularaxis\":{\"gridcolor\":\"white\",\"linecolor\":\"white\",\"ticks\":\"\"},\"radialaxis\":{\"gridcolor\":\"white\",\"linecolor\":\"white\",\"ticks\":\"\"}},\"ternary\":{\"bgcolor\":\"#E5ECF6\",\"aaxis\":{\"gridcolor\":\"white\",\"linecolor\":\"white\",\"ticks\":\"\"},\"baxis\":{\"gridcolor\":\"white\",\"linecolor\":\"white\",\"ticks\":\"\"},\"caxis\":{\"gridcolor\":\"white\",\"linecolor\":\"white\",\"ticks\":\"\"}},\"coloraxis\":{\"colorbar\":{\"outlinewidth\":0,\"ticks\":\"\"}},\"colorscale\":{\"sequential\":[[0.0,\"#0d0887\"],[0.1111111111111111,\"#46039f\"],[0.2222222222222222,\"#7201a8\"],[0.3333333333333333,\"#9c179e\"],[0.4444444444444444,\"#bd3786\"],[0.5555555555555556,\"#d8576b\"],[0.6666666666666666,\"#ed7953\"],[0.7777777777777778,\"#fb9f3a\"],[0.8888888888888888,\"#fdca26\"],[1.0,\"#f0f921\"]],\"sequentialminus\":[[0.0,\"#0d0887\"],[0.1111111111111111,\"#46039f\"],[0.2222222222222222,\"#7201a8\"],[0.3333333333333333,\"#9c179e\"],[0.4444444444444444,\"#bd3786\"],[0.5555555555555556,\"#d8576b\"],[0.6666666666666666,\"#ed7953\"],[0.7777777777777778,\"#fb9f3a\"],[0.8888888888888888,\"#fdca26\"],[1.0,\"#f0f921\"]],\"diverging\":[[0,\"#8e0152\"],[0.1,\"#c51b7d\"],[0.2,\"#de77ae\"],[0.3,\"#f1b6da\"],[0.4,\"#fde0ef\"],[0.5,\"#f7f7f7\"],[0.6,\"#e6f5d0\"],[0.7,\"#b8e186\"],[0.8,\"#7fbc41\"],[0.9,\"#4d9221\"],[1,\"#276419\"]]},\"xaxis\":{\"gridcolor\":\"white\",\"linecolor\":\"white\",\"ticks\":\"\",\"title\":{\"standoff\":15},\"zerolinecolor\":\"white\",\"automargin\":true,\"zerolinewidth\":2},\"yaxis\":{\"gridcolor\":\"white\",\"linecolor\":\"white\",\"ticks\":\"\",\"title\":{\"standoff\":15},\"zerolinecolor\":\"white\",\"automargin\":true,\"zerolinewidth\":2},\"scene\":{\"xaxis\":{\"backgroundcolor\":\"#E5ECF6\",\"gridcolor\":\"white\",\"linecolor\":\"white\",\"showbackground\":true,\"ticks\":\"\",\"zerolinecolor\":\"white\",\"gridwidth\":2},\"yaxis\":{\"backgroundcolor\":\"#E5ECF6\",\"gridcolor\":\"white\",\"linecolor\":\"white\",\"showbackground\":true,\"ticks\":\"\",\"zerolinecolor\":\"white\",\"gridwidth\":2},\"zaxis\":{\"backgroundcolor\":\"#E5ECF6\",\"gridcolor\":\"white\",\"linecolor\":\"white\",\"showbackground\":true,\"ticks\":\"\",\"zerolinecolor\":\"white\",\"gridwidth\":2}},\"shapedefaults\":{\"line\":{\"color\":\"#2a3f5f\"}},\"annotationdefaults\":{\"arrowcolor\":\"#2a3f5f\",\"arrowhead\":0,\"arrowwidth\":1},\"geo\":{\"bgcolor\":\"white\",\"landcolor\":\"#E5ECF6\",\"subunitcolor\":\"white\",\"showland\":true,\"showlakes\":true,\"lakecolor\":\"white\"},\"title\":{\"x\":0.05},\"mapbox\":{\"style\":\"light\"}}},\"xaxis\":{\"anchor\":\"y\",\"domain\":[0.0,1.0],\"title\":{\"text\":\"Types of Errors\"}},\"yaxis\":{\"anchor\":\"x\",\"domain\":[0.0,1.0],\"title\":{\"text\":\"Frequency\"}},\"legend\":{\"tracegroupgap\":0},\"title\":{\"text\":\"Error Type Frequencies in System Logs\",\"x\":0.5},\"barmode\":\"relative\"},                        {\"responsive\": true}                    ).then(function(){\n",
              "                            \n",
              "var gd = document.getElementById('c78c5444-1bf6-4a26-9c2e-13545fe82e55');\n",
              "var x = new MutationObserver(function (mutations, observer) {{\n",
              "        var display = window.getComputedStyle(gd).display;\n",
              "        if (!display || display === 'none') {{\n",
              "            console.log([gd, 'removed!']);\n",
              "            Plotly.purge(gd);\n",
              "            observer.disconnect();\n",
              "        }}\n",
              "}});\n",
              "\n",
              "// Listen for the removal of the full notebook cells\n",
              "var notebookContainer = gd.closest('#notebook-container');\n",
              "if (notebookContainer) {{\n",
              "    x.observe(notebookContainer, {childList: true});\n",
              "}}\n",
              "\n",
              "// Listen for the clearing of the current output cell\n",
              "var outputEl = gd.closest('.output');\n",
              "if (outputEl) {{\n",
              "    x.observe(outputEl, {childList: true});\n",
              "}}\n",
              "\n",
              "                        })                };                            </script>        </div>\n",
              "</body>\n",
              "</html>"
            ]
          },
          "metadata": {}
        }
      ]
    }
  ]
}