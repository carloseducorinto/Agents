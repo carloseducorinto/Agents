{
  "nbformat": 4,
  "nbformat_minor": 0,
  "metadata": {
    "colab": {
      "provenance": [],
      "authorship_tag": "ABX9TyPLqNjvia2GlDnjNufgqjgr",
      "include_colab_link": true
    },
    "kernelspec": {
      "name": "python3",
      "display_name": "Python 3"
    },
    "language_info": {
      "name": "python"
    }
  },
  "cells": [
    {
      "cell_type": "markdown",
      "metadata": {
        "id": "view-in-github",
        "colab_type": "text"
      },
      "source": [
        "<a href=\"https://colab.research.google.com/github/carloseducorinto/Agents/blob/main/L4_tools_customer_outreach_v1.ipynb\" target=\"_parent\"><img src=\"https://colab.research.google.com/assets/colab-badge.svg\" alt=\"Open In Colab\"/></a>"
      ]
    },
    {
      "cell_type": "markdown",
      "source": [
        "# L4: Tools for a Customer Outreach Campaign\n",
        "\n",
        "In this lesson, you will learn more about Tools. You'll focus on three key elements of Tools:\n",
        "- Versatility\n",
        "- Fault Tolerance\n",
        "- Caching"
      ],
      "metadata": {
        "id": "ljYWBC9VS65z"
      }
    },
    {
      "cell_type": "markdown",
      "source": [
        "The libraries are already installed in the classroom. If you're running this notebook on your own machine, you can install the following:\n",
        "```Python\n",
        "!pip install crewai==0.28.8 crewai_tools==0.1.6 langchain_community==0.0.29\n",
        "```"
      ],
      "metadata": {
        "id": "Eyc0b79PTFSp"
      }
    },
    {
      "cell_type": "code",
      "source": [
        "#!pip install crewai==0.28.8 crewai_tools==0.1.6 langchain_community==0.0.29\n",
        "#!pip install -U langchain-cohere"
      ],
      "metadata": {
        "id": "oXmyUteJTCkf"
      },
      "execution_count": 76,
      "outputs": []
    },
    {
      "cell_type": "code",
      "source": [
        "# Warning control\n",
        "import warnings\n",
        "warnings.filterwarnings('ignore')"
      ],
      "metadata": {
        "id": "Wh2NKhgETwak"
      },
      "execution_count": 77,
      "outputs": []
    },
    {
      "cell_type": "markdown",
      "source": [
        "- Import libraries, APIs and LLM\n",
        "- [Serper](https://serper.dev)"
      ],
      "metadata": {
        "id": "Ibl8MQy0T06P"
      }
    },
    {
      "cell_type": "code",
      "source": [
        "from crewai import Agent, Task, Crew\n",
        "import os\n",
        "from google.colab import userdata\n",
        "from langchain_cohere import ChatCohere"
      ],
      "metadata": {
        "id": "Us3dyMEjT5yX"
      },
      "execution_count": 78,
      "outputs": []
    },
    {
      "cell_type": "markdown",
      "source": [
        "**Note**:\n",
        "- The video uses `gpt-4-turbo`, but due to certain constraints, and in order to offer this course for free to everyone, the code you'll run here will use `gpt-3.5-turbo`.\n",
        "- You can use `gpt-4-turbo` when you run the notebook _locally_ (using `gpt-4-turbo` will not work on the platform)\n",
        "- Thank you for your understanding!"
      ],
      "metadata": {
        "id": "VIkgPr1sUIgk"
      }
    },
    {
      "cell_type": "code",
      "source": [
        "import os\n",
        "\n",
        "os.environ[\"OPENAI_API_KEY\"] = userdata.get('OPENAI_API_KEY')\n",
        "#os.environ[\"OPENAI_MODEL_NAME\"] = 'gpt-3.5-turbo'\n",
        "#os.environ[\"OPENAI_MODEL_NAME\"] = 'gpt-4-turbo'\n",
        "os.environ[\"SERPER_API_KEY\"] = userdata.get('SERPER_API_KEY')\n",
        "\n",
        "#### Cohere -  Initialize language model\n",
        "#os.environ[\"COHERE_API_KEY\"] = userdata.get('COHERE_API_KEY')\n",
        "#llm = ChatCohere()\n",
        "\n"
      ],
      "metadata": {
        "id": "fgpy8A3lUMr-"
      },
      "execution_count": 79,
      "outputs": []
    },
    {
      "cell_type": "code",
      "source": [
        "sales_rep_agent = Agent(\n",
        "    role=\"Sales Representative\",\n",
        "    goal=\"Identify high-value leads that match \"\n",
        "         \"our ideal customer profile\",\n",
        "    backstory=(\n",
        "        \"As a part of the dynamic sales team at CitiGroup, \"\n",
        "        \"your mission is to scour \"\n",
        "        \"the digital landscape for potential leads. \"\n",
        "        \"Armed with cutting-edge tools \"\n",
        "        \"and a strategic mindset, you analyze data, \"\n",
        "        \"trends, and interactions to \"\n",
        "        \"unearth opportunities that others might overlook. \"\n",
        "        \"Your work is crucial in paving the way \"\n",
        "        \"for meaningful engagements and driving the company's growth.\"\n",
        "    ),\n",
        "    allow_delegation=False,\n",
        "    verbose=True\n",
        ")"
      ],
      "metadata": {
        "id": "KSmXVh3zVCv9"
      },
      "execution_count": 80,
      "outputs": []
    },
    {
      "cell_type": "code",
      "source": [
        "lead_sales_rep_agent = Agent(\n",
        "    role=\"Lead Sales Representative\",\n",
        "    goal=\"Nurture leads with personalized, compelling communications\",\n",
        "    backstory=(\n",
        "        \"Within the vibrant ecosystem of Citigroup's sales department, \"\n",
        "        \"you stand out as the bridge between potential clients \"\n",
        "        \"and the solutions they need.\"\n",
        "        \"By creating engaging, personalized messages, \"\n",
        "        \"you not only inform leads about our offerings \"\n",
        "        \"but also make them feel seen and heard.\"\n",
        "        \"Your role is pivotal in converting interest \"\n",
        "        \"into action, guiding leads through the journey \"\n",
        "        \"from curiosity to commitment.\"\n",
        "    ),\n",
        "    allow_delegation=False,\n",
        "    verbose=True\n",
        ")"
      ],
      "metadata": {
        "id": "RmyvPp_CVX3R"
      },
      "execution_count": 81,
      "outputs": []
    },
    {
      "cell_type": "markdown",
      "source": [
        "## Creating Tools\n",
        "\n",
        "### crewAI Tools"
      ],
      "metadata": {
        "id": "7F5LpH3WVc_d"
      }
    },
    {
      "cell_type": "code",
      "source": [
        "from crewai_tools import DirectoryReadTool, \\\n",
        "                         FileReadTool, \\\n",
        "                         SerperDevTool"
      ],
      "metadata": {
        "id": "vMYDsrorVeeQ"
      },
      "execution_count": 82,
      "outputs": []
    },
    {
      "cell_type": "code",
      "source": [
        "directory_read_tool = DirectoryReadTool(directory='./instructions')\n",
        "file_read_tool = FileReadTool()\n",
        "search_tool = SerperDevTool()"
      ],
      "metadata": {
        "id": "HfjGcN_CVjH4"
      },
      "execution_count": 83,
      "outputs": []
    },
    {
      "cell_type": "markdown",
      "source": [
        "### Custom Tool\n",
        "- Create a custom tool using crewAi's [BaseTool](https://docs.crewai.com/core-concepts/Tools/#subclassing-basetool) class"
      ],
      "metadata": {
        "id": "SpDQKuduVvBR"
      }
    },
    {
      "cell_type": "code",
      "source": [
        "from crewai_tools import BaseTool"
      ],
      "metadata": {
        "id": "NQty-RVDVwqz"
      },
      "execution_count": 84,
      "outputs": []
    },
    {
      "cell_type": "markdown",
      "source": [
        "- Every Tool needs to have a `name` and a `description`.\n",
        "- For simplicity and classroom purposes, `SentimentAnalysisTool` will return `positive` for every text.\n",
        "- When running locally, you can customize the code with your logic in the `_run` function."
      ],
      "metadata": {
        "id": "eKvF9g5KWLcg"
      }
    },
    {
      "cell_type": "code",
      "source": [
        "class SentimentAnalysisTool(BaseTool):\n",
        "    name: str =\"Sentiment Analysis Tool\"\n",
        "    description: str = (\"Analyzes the sentiment of text \"\n",
        "         \"to ensure positive and engaging communication.\")\n",
        "\n",
        "    def _run(self, text: str) -> str:\n",
        "        # Your custom code tool goes here\n",
        "        return \"positive\""
      ],
      "metadata": {
        "id": "bQFHohhBWQrr"
      },
      "execution_count": 85,
      "outputs": []
    },
    {
      "cell_type": "code",
      "source": [
        "sentiment_analysis_tool = SentimentAnalysisTool()"
      ],
      "metadata": {
        "id": "fserrvLyWJ4r"
      },
      "execution_count": 86,
      "outputs": []
    },
    {
      "cell_type": "markdown",
      "source": [
        "## Creating Tasks\n",
        "\n",
        "- The Lead Profiling Task is using crewAI Tools."
      ],
      "metadata": {
        "id": "NQLI0_18WcCK"
      }
    },
    {
      "cell_type": "code",
      "source": [
        "lead_profiling_task = Task(\n",
        "    description=(\n",
        "        \"Conduct an in-depth analysis of {lead_name}, \"\n",
        "        \"a company in the {industry} sector \"\n",
        "        \"that recently showed interest in our solutions. \"\n",
        "        \"Utilize all available data sources \"\n",
        "        \"to compile a detailed profile, \"\n",
        "        \"focusing on key decision-makers, recent business \"\n",
        "        \"developments, and potential needs \"\n",
        "        \"that align with our offerings. \"\n",
        "        \"This task is crucial for tailoring \"\n",
        "        \"our engagement strategy effectively.\\n\"\n",
        "        \"Don't make assumptions and \"\n",
        "        \"only use information you absolutely sure about.\"\n",
        "    ),\n",
        "    expected_output=(\n",
        "        \"A comprehensive report on {lead_name}, \"\n",
        "        \"including company background, \"\n",
        "        \"key personnel, recent milestones, and identified needs. \"\n",
        "        \"Highlight potential areas where \"\n",
        "        \"our solutions can provide value, \"\n",
        "        \"and suggest personalized engagement strategies.\"\n",
        "    ),\n",
        "    tools=[directory_read_tool, file_read_tool, search_tool],\n",
        "    agent=sales_rep_agent,\n",
        ")"
      ],
      "metadata": {
        "id": "f_1cETEDWdh6"
      },
      "execution_count": 87,
      "outputs": []
    },
    {
      "cell_type": "markdown",
      "source": [
        "- The Personalized Outreach Task is using your custom Tool `SentimentAnalysisTool`, as well as crewAI's `SerperDevTool` (search_tool)."
      ],
      "metadata": {
        "id": "2yT-IAjnWxvE"
      }
    },
    {
      "cell_type": "code",
      "source": [
        "personalized_outreach_task = Task(\n",
        "    description=(\n",
        "        \"Using the insights gathered from \"\n",
        "        \"the lead profiling report on {lead_name}, \"\n",
        "        \"craft a personalized outreach campaign \"\n",
        "        \"aimed at {key_decision_maker}, \"\n",
        "        \"the {position} of {lead_name}. \"\n",
        "        \"The campaign should address their recent {milestone} \"\n",
        "        \"and how our solutions can support their goals. \"\n",
        "        \"Your communication must resonate \"\n",
        "        \"with {lead_name}'s company culture and values, \"\n",
        "        \"demonstrating a deep understanding of \"\n",
        "        \"their business and needs.\\n\"\n",
        "        \"Don't make assumptions and only \"\n",
        "        \"use information you absolutely sure about.\"\n",
        "    ),\n",
        "    expected_output=(\n",
        "        \"A series of personalized email drafts \"\n",
        "        \"tailored to {lead_name}, \"\n",
        "        \"specifically targeting {key_decision_maker}.\"\n",
        "        \"Each draft should include \"\n",
        "        \"a compelling narrative that connects our solutions \"\n",
        "        \"with their recent achievements and future goals. \"\n",
        "        \"Ensure the tone is engaging, professional, \"\n",
        "        \"and aligned with {lead_name}'s corporate identity.\"\n",
        "    ),\n",
        "    tools=[sentiment_analysis_tool, search_tool],\n",
        "    agent=lead_sales_rep_agent,\n",
        ")"
      ],
      "metadata": {
        "id": "o7HkCqHUWwRi"
      },
      "execution_count": 88,
      "outputs": []
    },
    {
      "cell_type": "markdown",
      "source": [
        "## Creating the Crew"
      ],
      "metadata": {
        "id": "2O-kXvUfXAmh"
      }
    },
    {
      "cell_type": "code",
      "source": [
        "crew = Crew(\n",
        "    agents=[sales_rep_agent,\n",
        "            lead_sales_rep_agent],\n",
        "\n",
        "    tasks=[lead_profiling_task,\n",
        "           personalized_outreach_task],\n",
        "\n",
        "    verbose=2,\n",
        "\tmemory=True\n",
        ")"
      ],
      "metadata": {
        "id": "DTjDPc56XCWg"
      },
      "execution_count": 89,
      "outputs": []
    },
    {
      "cell_type": "markdown",
      "source": [
        "## Running the Crew\n",
        "\n",
        "**Note**: LLMs can provide different outputs for they same input, so what you get might be different than what you see in the video."
      ],
      "metadata": {
        "id": "5O847PKFXIvV"
      }
    },
    {
      "cell_type": "code",
      "source": [
        "inputs = {\n",
        "    \"lead_name\": \"DeepLearningAI\",\n",
        "    \"industry\": \"Online Learning Platform\",\n",
        "    \"key_decision_maker\": \"Andrew Ng\",\n",
        "    \"position\": \"CEO\",\n",
        "    \"milestone\": \"product launch\"\n",
        "}\n",
        "\n",
        "result = crew.kickoff(inputs=inputs)"
      ],
      "metadata": {
        "id": "e1QueGOZXLyU"
      },
      "execution_count": 90,
      "outputs": []
    },
    {
      "cell_type": "code",
      "source": [
        "from IPython.display import Markdown\n",
        "Markdown(result)"
      ],
      "metadata": {
        "colab": {
          "base_uri": "https://localhost:8080/",
          "height": 705
        },
        "id": "6GDWd9kwZhEd",
        "outputId": "f1185f68-f0ef-49db-aa30-93a54e3a8e6d"
      },
      "execution_count": 91,
      "outputs": [
        {
          "output_type": "execute_result",
          "data": {
            "text/plain": [
              "<IPython.core.display.Markdown object>"
            ],
            "text/markdown": "**Email 1: Subject: Empowering DeepLearningAI's Global Mission with Tailored Educational Solutions**\n\nDear Dr. Andrew Ng,\n\nI hope this message finds you well. I'm writing to you not just as a representative of Citigroup, but as someone who deeply admires DeepLearningAI's commitment to democratizing AI education globally.\n\nWe've noticed your recent initiatives to expand course offerings on Coursera and understand the challenges such scaling efforts can entail. At Citigroup, we specialize in providing robust, scalable solutions tailored specifically to the needs of ed-tech platforms. Our collaboration could ensure that your platform remains resilient and efficient, even as demand continues to grow.\n\nI would love the opportunity to discuss how we can support DeepLearningAI in achieving its mission. Are you available for a brief call next week?\n\nBest regards,\n\n[Your Name]\n\n**Email 2: Subject: Collaborative Opportunities in AI Education**\n\nDear Dr. Andrew Ng,\n\nFollowing our ongoing conversation about potential synergies between our organizations, I wanted to highlight another crucial area where Citigroup can add value—content creation and updates.\n\nStaying ahead in AI and machine learning requires constant innovation and curriculum updates. Our team at Citigroup has extensive experience in integrating the latest AI breakthroughs into educational content. We can work together to ensure that your courses always reflect cutting-edge developments.\n\nCould we explore this in more detail in our upcoming discussion?\n\nLooking forward to your thoughts.\n\nWarm regards,\n\n[Your Name]\n\n**Email 3: Subject: Localizing AI Education for Broader Impact**\n\nDear Dr. Andrew Ng,\n\nAs DeepLearningAI looks to enhance its global reach, addressing linguistic and regional educational nuances is essential. Citigroup has successfully helped other educational platforms develop localized content that resonates with a diverse audience.\n\nPartnering with us could simplify the localization process for your courses, making AI education more accessible to non-English speakers worldwide.\n\nI am eager to discuss how we can assist DeepLearningAI in this venture and would appreciate your insights on how best we can support your goals.\n\nPlease let me know a convenient time for you to talk next week.\n\nThankfully,\n\n[Your Name]\n\nThese emails are tailored to address the specific needs identified in the profiling report, providing clear action steps and showcasing Citigroup's potential contributions to DeepLearningAI's success."
          },
          "metadata": {},
          "execution_count": 91
        }
      ]
    },
    {
      "cell_type": "markdown",
      "source": [],
      "metadata": {
        "id": "XRbjg91cTD2F"
      }
    },
    {
      "cell_type": "markdown",
      "source": [],
      "metadata": {
        "id": "R-AE47f6S6GW"
      }
    }
  ]
}